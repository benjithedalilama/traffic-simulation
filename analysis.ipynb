{
 "cells": [
  {
   "cell_type": "code",
   "execution_count": null,
   "metadata": {
    "collapsed": true
   },
   "outputs": [],
   "source": [
    "from singlelanetrafficsim import SingleLaneTrafficSimulation\n",
    "from multilanetrafficsim import MultiLaneTrafficSimulation\n",
    "import numpy as np\n",
    "import matplotlib.pyplot as plt\n",
    "from sklearn.model_selection import GridSearchCV\n",
    "from sklearn.kernel_ridge import KernelRidge\n",
    "\n",
    "def get_flow_array(densities, iterations, strategy, l_tuple=(), mode='single'):\n",
    "    avg_flow_arr = []\n",
    "    if mode == 'multi': l, l_o, l_o_back = l_tuple\n",
    "    for density in densities:\n",
    "        if mode == 'single':\n",
    "            sim = SingleLaneTrafficSimulation(100, density, 5, 0.5, verbose=False, strategy=strategy)\n",
    "        elif mode == 'multi':\n",
    "            sim = MultiLaneTrafficSimulation(100, density, 5, 0.5, l, l_o, l_o_back, p_change=0.5, verbose=False, strategy=strategy)\n",
    "        flow_sum = 0\n",
    "        for i in range(iterations):\n",
    "            sim.step()\n",
    "            flow = sim.get_flow()\n",
    "            flow_sum += flow\n",
    "        avg_flow = flow_sum/(iterations*sim.road_length)\n",
    "        avg_flow_arr.append(avg_flow)\n",
    "    return avg_flow_arr\n",
    "\n",
    "def analyze_and_plot(l_tuple=(), mode='single'):\n",
    "    dens = np.repeat(np.arange(0.0,1.0,.01),5)\n",
    "    its = 200\n",
    "    strategies = ['regular','middle']\n",
    "    train_size = len(dens)\n",
    "    for strategy in strategies:\n",
    "        flows = get_flow_array(dens, its, strategy, l_tuple=l_tuple, mode=mode)\n",
    "        flows = np.array(flows)\n",
    "        plt.scatter(dens,flows,s=2,label='%s'%strategy)\n",
    "        kr = GridSearchCV(KernelRidge(kernel='chi2', gamma=0.1), cv=5,\n",
    "                      param_grid={\"alpha\": [1e0, 0.1, 1e-2, 1e-3],\n",
    "                                  \"gamma\": np.logspace(-2, 2, 5)})\n",
    "        dens = dens.reshape(len(dens),1)\n",
    "        flows = flows.reshape(len(flows),1)\n",
    "        kr.fit(dens[:train_size], flows[:train_size])\n",
    "        y_kr = kr.predict(dens)\n",
    "        color = 'r' if strategy == 'regular' else 'g'\n",
    "        plt.plot(dens, y_kr, label='%s KRR'%strategy,c=color,linewidth=1)\n",
    "        plt.xlabel('Density (cars per cell)')\n",
    "        plt.ylabel('Flow (total cars per time-step)')\n",
    "        if mode == 'multi':\n",
    "            l, l_o, l_o_back = l_tuple\n",
    "            plt.title('Flow vs. Density for %s Lane Simulation, l:%d l_o:%d l_o_back:%d'%(mode.capitalize(),l,l_o,l_o_back))\n",
    "        elif mode == 'single':\n",
    "            plt.title('Flow vs. Density for %s Lane Simulation'%mode.capitalize())\n",
    "        plt.grid(True)\n",
    "    plt.legend(loc='upper right')\n",
    "    plt.savefig(\"test%s.png\"%mode)\n",
    "    plt.gcf().clear()\n",
    "\n",
    "l = 3\n",
    "l_o = 3\n",
    "l_o_back = 3\n",
    "\n",
    "l_tuple = (l, l_o, l_o_back)\n",
    "analyze_and_plot()\n",
    "analyze_and_plot(l_tuple=l_tuple,mode='multi')\n"
   ]
  }
 ],
 "metadata": {
  "kernelspec": {
   "display_name": "Python 3",
   "language": "python",
   "name": "python3"
  },
  "language_info": {
   "codemirror_mode": {
    "name": "ipython",
    "version": 3
   },
   "file_extension": ".py",
   "mimetype": "text/x-python",
   "name": "python",
   "nbconvert_exporter": "python",
   "pygments_lexer": "ipython3",
   "version": "3.6.2"
  }
 },
 "nbformat": 4,
 "nbformat_minor": 2
}
